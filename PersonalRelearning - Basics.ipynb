{
 "cells": [
  {
   "cell_type": "code",
   "execution_count": 3,
   "id": "bd48ca6a",
   "metadata": {},
   "outputs": [
    {
     "name": "stdout",
     "output_type": "stream",
     "text": [
      "Python Version:\n",
      " 3.9.7 (default, Sep 16 2021, 16:59:28) [MSC v.1916 64 bit (AMD64)]\n",
      "\n",
      "Anaconda Version:\n",
      " # packages in environment at C:\\Users\\DeadPixelz404\\Anaconda3:\n",
      "#\n",
      "# Name                    Version                   Build  Channel\n",
      "anaconda                  2021.11                  py39_0  \n",
      "\n"
     ]
    }
   ],
   "source": [
    "import sys\n",
    "import os\n",
    "print('Python Version:\\n', sys.version)\n",
    "result = os.popen('conda list anaconda$').read()\n",
    "print('\\nAnaconda Version:\\n', result)\n",
    "\n",
    "def SayHello():\n",
    "    return \"Hello there!\"\n",
    "\n",
    "def DoSum(Value1, Value2):\n",
    "    return Value1 + Value2\n",
    "\n",
    "def DoProduct(Value1, Value2):\n",
    "    return Value1 * Value2\n",
    "\n",
    "def DisplaySum(Value1, Value2):\n",
    "    print(str(Value1) + '+' + str(Value2) + '=' +\n",
    "    str((Value1 + Value2)))\n",
    "    \n",
    "def SayHello2(Greeting = \"No value supplied\"):\n",
    "    print(Greeting)\n",
    "    \n",
    "def DisplayMulti(ArgCount = 0,  *VarArgs):\n",
    "    print('You passed ' + str(ArgCount) + ' arguments.', \n",
    "          VarArgs)"
   ]
  },
  {
   "cell_type": "code",
   "execution_count": 8,
   "id": "5a7ca336",
   "metadata": {},
   "outputs": [
    {
     "name": "stdout",
     "output_type": "stream",
     "text": [
      "You passed 3 arguments. ('Hello', 1, True)\n"
     ]
    }
   ],
   "source": [
    "\"\"\"\n",
    "Call functions by unhashing the functions\n",
    "\"\"\"\n",
    "\n",
    "###SayHello()\n",
    "###DoSum(1,2)\n",
    "###DoProduct(2,3)\n",
    "###DisplaySum(2,5)\n",
    "###SayHello2(\"Hewwo uwu\")\n",
    "DisplayMulti(3, \"Hello\", 1, True)"
   ]
  },
  {
   "cell_type": "code",
   "execution_count": null,
   "id": "bea4be67",
   "metadata": {},
   "outputs": [],
   "source": []
  }
 ],
 "metadata": {
  "kernelspec": {
   "display_name": "Python 3 (ipykernel)",
   "language": "python",
   "name": "python3"
  },
  "language_info": {
   "codemirror_mode": {
    "name": "ipython",
    "version": 3
   },
   "file_extension": ".py",
   "mimetype": "text/x-python",
   "name": "python",
   "nbconvert_exporter": "python",
   "pygments_lexer": "ipython3",
   "version": "3.9.7"
  }
 },
 "nbformat": 4,
 "nbformat_minor": 5
}
